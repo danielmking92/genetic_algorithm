# Importing required libraries
import numpy as np, random, operator, pandas as pd, matplotlib.pyplot as plt

# -----------------------------
# City class to hold coordinates of each city
# -----------------------------
class City:
    def __init__(self, x, y):
        self.x = x
        self.y = y

    # Calculate Euclidean distance between this city and another
    def distance(self, city):
        xDis = abs(self.x - city.x)
        yDis = abs(self.y - city.y)
        return np.sqrt((xDis ** 2) + (yDis ** 2))

    def __repr__(self):
        return "(" + str(self.x) + "," + str(self.y) + ")"

# -----------------------------
# Fitness class calculates route distance and fitness (inverse of distance)
# -----------------------------
class Fitness:
    def __init__(self, route):
        self.route = route
        self.distance = 0
        self.fitness = 0.0

    # Total distance of a route
    def routeDistance(self):
        if self.distance == 0:
            pathDistance = 0
            for i in range(0, len(self.route)):
                fromCity = self.route[i]
                toCity = self.route[(i + 1) % len(self.route)]  # Wrap to start
                pathDistance += fromCity.distance(toCity)
            self.distance = pathDistance
        return self.distance

    # Fitness is the inverse of route distance (shorter is better)
    def routeFitness(self):
        if self.fitness == 0:
            self.fitness = 1 / float(self.routeDistance())
        return self.fitness

# -----------------------------
# Create a random route (chromosome)
# -----------------------------
def createRoute(cityList):
    return random.sample(cityList, len(cityList))

# -----------------------------
# Create an initial population of routes
# -----------------------------
def initialPopulation(popSize, cityList):
    return [createRoute(cityList) for _ in range(popSize)]

# -----------------------------
# Rank routes in population by fitness
# -----------------------------
def rankRoutes(population):
    fitnessResults = {}
    for i in range(0, len(population)):
        fitnessResults[i] = Fitness(population[i]).routeFitness()
    return sorted(fitnessResults.items(), key=operator.itemgetter(1), reverse=True)

# -----------------------------
# Selection using elitism and roulette wheel
# -----------------------------
def selection(popRanked, eliteSize):
    selectionResults = []

    # Convert to DataFrame to compute cumulative percentages
    df = pd.DataFrame(np.array(popRanked), columns=["Index", "Fitness"])
    df['cum_sum'] = df.Fitness.cumsum()
    df['cum_perc'] = 100 * df.cum_sum / df.Fitness.sum()

    # Keep top eliteSize individuals
    for i in range(0, eliteSize):
        selectionResults.append(popRanked[i][0])

    # Roulette wheel selection for the rest
    for i in range(0, len(popRanked) - eliteSize):
        pick = 100 * random.random()
        for j in range(0, len(popRanked)):
            if pick <= df.iat[j, 3]:
                selectionResults.append(popRanked[j][0])
                break
    return selectionResults

# -----------------------------
# Create mating pool based on selection results
# -----------------------------
def matingPool(population, selectionResults):
    matingpool = []
    for i in range(0, len(selectionResults)):
        index = selectionResults[i]
        matingpool.append(population[index])
    return matingpool

# -----------------------------
# Crossover (Ordered Crossover - OX)
# Creates a child route from two parents
# -----------------------------
def breed(parent1, parent2):
    child = []
    childP1 = []
    childP2 = []

    # Randomly select a subset from parent1
    geneA = int(random.random() * len(parent1))
    geneB = int(random.random() * len(parent1))
    startGene = min(geneA, geneB)
    endGene = max(geneA, geneB)

    # Slice the selected subset
    for i in range(startGene, endGene):
        childP1.append(parent1[i])

    # Fill the remaining cities from parent2 in order
    childP2 = [item for item in parent2 if item not in childP1]

    # Combine to make full child route
    child = childP1 + childP2
    return child

# -----------------------------
# Apply crossover to the full mating pool
# -----------------------------
def breedPopulation(matingpool, eliteSize):
    children = []
    length = len(matingpool) - eliteSize
    pool = random.sample(matingpool, len(matingpool))  # Shuffle the pool

    # Keep elite individuals as is
    for i in range(0, eliteSize):
        children.append(matingpool[i])

    # Breed the rest
    for i in range(0, length):
        child = breed(pool[i], pool[len(matingpool) - i - 1])
        children.append(child)
    return children

# -----------------------------
# Mutation (Swap Mutation)
# Randomly swaps cities in the route with a given mutation rate
# -----------------------------
def mutate(individual, mutationRate):
    for swapped in range(len(individual)):
        if random.random() < mutationRate:
            swapWith = int(random.random() * len(individual))
            city1 = individual[swapped]
            city2 = individual[swapWith]
            individual[swapped] = city2
            individual[swapWith] = city1
    return individual

# -----------------------------
# Apply mutation to the whole population
# -----------------------------
def mutatePopulation(population, mutationRate):
    mutatedPop = []
    for ind in range(0, len(population)):
        mutatedInd = mutate(population[ind], mutationRate)    # Using mutate()
        mutatedPop.append(mutatedInd)
    return mutatedPop

# -----------------------------
# Generate next generation from current generation
# -----------------------------
def nextGeneration(currentGen, eliteSize, mutationRate):
    popRanked = rankRoutes(currentGen)                           # Rank current gen
    selectionResults = selection(popRanked, eliteSize)           # Select parents
    matingpool = matingPool(currentGen, selectionResults)        # Build mating pool
    children = breedPopulation(matingpool, eliteSize)            # Using breed()
    nextGeneration = mutatePopulation(children, mutationRate)    # Using mutate()
    return nextGeneration

# -----------------------------
# Main Genetic Algorithm loop
# -----------------------------
def geneticAlgorithm(population, popSize, eliteSize, mutationRate, generations):
    pop = initialPopulation(popSize, population)  # Create initial population
    print("Initial distance: " + str(1 / rankRoutes(pop)[0][1]))

    # Evolve through generations
    for i in range(0, generations):
        pop = nextGeneration(pop, eliteSize, mutationRate)

    print("Final distance: " + str(1 / rankRoutes(pop)[0][1]))
    bestRouteIndex = rankRoutes(pop)[0][0]
    bestRoute = pop[bestRouteIndex]
    return bestRoute

# -----------------------------
# Generate random cities for the TSP
# -----------------------------
cityList = []
for i in range(0, 25):
    cityList.append(City(x=int(random.random() * 200), y=int(random.random() * 200)))

# -----------------------------
# Run the Genetic Algorithm
# -----------------------------
best = geneticAlgorithm(
    population=cityList, 
    popSize=100, 
    eliteSize=20, 
    mutationRate=0.01, 
    generations=500
)

# -----------------------------
# Plot distance improvement over generations
# -----------------------------
def geneticAlgorithmPlot(population, popSize, eliteSize, mutationRate, generations):
    pop = initialPopulation(popSize, population)
    progress = []
    progress.append(1 / rankRoutes(pop)[0][1])

    # Track best distance over time
    for i in range(0, generations):
        pop = nextGeneration(pop, eliteSize, mutationRate)
        progress.append(1 / rankRoutes(pop)[0][1])

    # Draw line chart
    plt.plot(progress)
    plt.ylabel('Distance')
    plt.xlabel('Generation')
    plt.title('Genetic Algorithm Optimization Progress')
    plt.grid(True)
    plt.show()

# Plot results
geneticAlgorithmPlot(
    population=cityList, 
    popSize=100, 
    eliteSize=20, 
    mutationRate=0.01, 
    generations=500
)
